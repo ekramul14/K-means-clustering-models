{
  "cells": [
    {
      "cell_type": "markdown",
      "metadata": {
        "id": "y-TF-4uHLGUD"
      },
      "source": [
        "# **Anomaly Detection**\n",
        "\n",
        "In this exercise, we will implement the anomaly detection algorithm and apply it to detect failing servers on a network. "
      ],
      "id": "y-TF-4uHLGUD"
    },
    {
      "cell_type": "markdown",
      "metadata": {
        "id": "GD2VEASSLGUJ"
      },
      "source": [
        "# **Packages **\n",
        "\n",
        "First, let's run the cell below to import all the packages that you will need during this assignment.\n",
        "- [numpy](www.numpy.org) is the fundamental package for working with matrices in Python.\n",
        "- [matplotlib](http://matplotlib.org) is a famous library to plot graphs in Python.\n",
        "- ``utils.py`` contains helper functions for this assignment. You do not need to modify code in this file.\n"
      ],
      "id": "GD2VEASSLGUJ"
    },
    {
      "cell_type": "code",
      "execution_count": 1,
      "metadata": {
        "colab": {
          "base_uri": "https://localhost:8080/"
        },
        "id": "MB0MSdopLGUK",
        "outputId": "0c0d3b2f-0a36-46ca-863e-3354bf97efc1"
      },
      "outputs": [
        {
          "output_type": "stream",
          "name": "stdout",
          "text": [
            "Mounted at /content/drive\n"
          ]
        }
      ],
      "source": [
        "import numpy as np\n",
        "import matplotlib.pyplot as plt\n",
        "from google.colab import drive\n",
        "import matplotlib.image as mpimg \n",
        "drive.mount('/content/drive')\n",
        "\n",
        "%matplotlib inline"
      ],
      "id": "MB0MSdopLGUK"
    },
    {
      "cell_type": "markdown",
      "metadata": {
        "id": "U1SCSiGtLGUL"
      },
      "source": [
        "# **Anomaly detection**\n",
        "\n",
        "# **Problem Statement**\n",
        "\n",
        "In this exercise, we will implement an anomaly detection algorithm to\n",
        "detect anomalous behavior in server computers.\n",
        "\n",
        "The dataset contains two features - \n",
        "   * throughput (mb/s) and \n",
        "   * latency (ms) of response of each server.\n",
        "\n",
        "While our servers were operating, we collected $m=307$ examples of how they were behaving, and thus have an unlabeled dataset $\\{x^{(1)}, \\ldots, x^{(m)}\\}$. \n",
        "* we suspect that the vast majority of these examples are “normal” (non-anomalous) examples of the servers operating normally, but there might also be some examples of servers acting anomalously within this dataset.\n",
        "\n",
        "we will use a Gaussian model to detect anomalous examples in our\n",
        "dataset. \n",
        "* We will first start on a 2D dataset that will allow us to visualize what the algorithm is doing.\n",
        "* On that dataset we will fit a Gaussian distribution and then find values that have very low probability and hence can be considered anomalies. \n",
        "* After that, we will apply the anomaly detection algorithm to a larger dataset with many dimensions. \n",
        "\n",
        "**Dataset**\n",
        "\n",
        "We will start by loading the dataset for this task. \n",
        "- The `load_data()` function shown below loads the data into the variables `X_train`, `X_val` and `y_val` \n",
        "    - We will use `X_train` to fit a Gaussian distribution \n",
        "    - We will use `X_val` and `y_val` as a cross validation set to select a threshold and determine anomalous vs normal examples"
      ],
      "id": "U1SCSiGtLGUL"
    },
    {
      "cell_type": "code",
      "source": [
        "def load_data():\n",
        "    X = np.load(\"/content/drive/MyDrive/Code/K-means-clustering-models/data/X_part1.npy\")\n",
        "    X_val = np.load(\"/content/drive/MyDrive/Code/K-means-clustering-models/data/X_val_part1.npy\")\n",
        "    y_val = np.load(\"/content/drive/MyDrive/Code/K-means-clustering-models/data/y_val_part1.npy\")\n",
        "    return X, X_val, y_val"
      ],
      "metadata": {
        "id": "Pr_m7UAXM-Ik"
      },
      "id": "Pr_m7UAXM-Ik",
      "execution_count": 2,
      "outputs": []
    },
    {
      "cell_type": "code",
      "execution_count": 3,
      "metadata": {
        "id": "y4Lb-1OGLGUZ"
      },
      "outputs": [],
      "source": [
        "# Load the dataset\n",
        "X_train, X_val, y_val = load_data()"
      ],
      "id": "y4Lb-1OGLGUZ"
    },
    {
      "cell_type": "markdown",
      "metadata": {
        "id": "hc18V5UmLGUa"
      },
      "source": [
        "# **View the variables**\n",
        "Let's get more familiar with our dataset.  \n",
        "- A good place to start is to just print out each variable and see what it contains.\n",
        "\n",
        "The code below prints the first five elements of each of the variables"
      ],
      "id": "hc18V5UmLGUa"
    },
    {
      "cell_type": "code",
      "execution_count": 4,
      "metadata": {
        "colab": {
          "base_uri": "https://localhost:8080/"
        },
        "id": "mqHzBAwJLGUa",
        "outputId": "eefa14ff-0223-42db-c622-3c5e70e0d6f6"
      },
      "outputs": [
        {
          "output_type": "stream",
          "name": "stdout",
          "text": [
            "The first 5 elements of X_train are:\n",
            " [[13.04681517 14.74115241]\n",
            " [13.40852019 13.7632696 ]\n",
            " [14.19591481 15.85318113]\n",
            " [14.91470077 16.17425987]\n",
            " [13.57669961 14.04284944]]\n"
          ]
        }
      ],
      "source": [
        "# Display the first five elements of X_train\n",
        "print(\"The first 5 elements of X_train are:\\n\", X_train[:5])  "
      ],
      "id": "mqHzBAwJLGUa"
    },
    {
      "cell_type": "code",
      "execution_count": 5,
      "metadata": {
        "colab": {
          "base_uri": "https://localhost:8080/"
        },
        "id": "l61-SdinLGUc",
        "outputId": "dd98a268-2e72-430a-b6d0-e98553abaf9d"
      },
      "outputs": [
        {
          "output_type": "stream",
          "name": "stdout",
          "text": [
            "The first 5 elements of X_val are\n",
            " [[15.79025979 14.9210243 ]\n",
            " [13.63961877 15.32995521]\n",
            " [14.86589943 16.47386514]\n",
            " [13.58467605 13.98930611]\n",
            " [13.46404167 15.63533011]]\n"
          ]
        }
      ],
      "source": [
        "# Display the first five elements of X_val\n",
        "print(\"The first 5 elements of X_val are\\n\", X_val[:5])  "
      ],
      "id": "l61-SdinLGUc"
    },
    {
      "cell_type": "code",
      "execution_count": 6,
      "metadata": {
        "colab": {
          "base_uri": "https://localhost:8080/"
        },
        "id": "6o68l2qXLGUc",
        "outputId": "2f2e9d09-6613-4f56-92ba-d9fad6443cfc"
      },
      "outputs": [
        {
          "output_type": "stream",
          "name": "stdout",
          "text": [
            "The first 5 elements of y_val are\n",
            " [0 0 0 0 0]\n"
          ]
        }
      ],
      "source": [
        "# Display the first five elements of y_val\n",
        "print(\"The first 5 elements of y_val are\\n\", y_val[:5])  "
      ],
      "id": "6o68l2qXLGUc"
    },
    {
      "cell_type": "markdown",
      "metadata": {
        "id": "WJbWw9fMLGUd"
      },
      "source": [
        "# **Check the dimensions of our variables**\n",
        "\n",
        "Another useful way to get familiar with data is to view its dimensions.\n",
        "\n",
        "The code below prints the shape of `X_train`, `X_val` and `y_val`."
      ],
      "id": "WJbWw9fMLGUd"
    },
    {
      "cell_type": "code",
      "execution_count": 7,
      "metadata": {
        "colab": {
          "base_uri": "https://localhost:8080/"
        },
        "id": "nhRwlCXmLGUe",
        "outputId": "d96914df-6b8d-4a3b-b70d-b8001010bb56"
      },
      "outputs": [
        {
          "output_type": "stream",
          "name": "stdout",
          "text": [
            "The shape of X_train is: (307, 2)\n",
            "The shape of X_val is: (307, 2)\n",
            "The shape of y_val is:  (307,)\n"
          ]
        }
      ],
      "source": [
        "print ('The shape of X_train is:', X_train.shape)\n",
        "print ('The shape of X_val is:', X_val.shape)\n",
        "print ('The shape of y_val is: ', y_val.shape)"
      ],
      "id": "nhRwlCXmLGUe"
    },
    {
      "cell_type": "markdown",
      "metadata": {
        "id": "upRqnA0JLGUe"
      },
      "source": [
        "# **Visualizing the data**\n",
        "\n",
        "Before starting on any task, it is often useful to understand the data by visualizing it. \n",
        "- For this dataset, we can use a scatter plot to visualize the data (`X_train`), since it has only two properties to plot (throughput and latency)"
      ],
      "id": "upRqnA0JLGUe"
    },
    {
      "cell_type": "code",
      "execution_count": 8,
      "metadata": {
        "colab": {
          "base_uri": "https://localhost:8080/",
          "height": 295
        },
        "id": "ySIiwVzTLGUf",
        "outputId": "4d23fa05-62fc-43c8-b3d8-4621d86025cc"
      },
      "outputs": [
        {
          "output_type": "display_data",
          "data": {
            "text/plain": [
              "<Figure size 432x288 with 1 Axes>"
            ],
            "image/png": "[encoded data removed]"
          },
          "metadata": {
            "needs_background": "light"
          }
        }
      ],
      "source": [
        "# Create a scatter plot of the data. To change the markers to blue \"x\",\n",
        "# we used the 'marker' and 'c' parameters\n",
        "plt.scatter(X_train[:, 0], X_train[:, 1], marker='x', c='b') \n",
        "\n",
        "# Set the title\n",
        "plt.title(\"The first dataset\")\n",
        "# Set the y-axis label\n",
        "plt.ylabel('Throughput (mb/s)')\n",
        "# Set the x-axis label\n",
        "plt.xlabel('Latency (ms)')\n",
        "# Set axis range\n",
        "plt.axis([0, 30, 0, 30])\n",
        "plt.show()"
      ],
      "id": "ySIiwVzTLGUf"
    },
    {
      "cell_type": "markdown",
      "metadata": {
        "id": "lMI9TQQ2LGUf"
      },
      "source": [
        "# **Gaussian distribution**\n",
        "\n",
        "To perform anomaly detection, we will first need to fit a model to the data’s distribution.\n",
        "\n",
        "* Given a training set $\\{x^{(1)}, ..., x^{(m)}\\}$ we want to estimate the Gaussian distribution for each\n",
        "of the features $x_i$. \n",
        "\n",
        "* Recall that the Gaussian distribution is given by\n",
        "\n",
        "   $$ p(x ; \\mu,\\sigma ^2) = \\frac{1}{\\sqrt{2 \\pi \\sigma ^2}}\\exp^{ - \\frac{(x - \\mu)^2}{2 \\sigma ^2} }$$\n",
        "\n",
        "   where $\\mu$ is the mean and $\\sigma^2$ controls the variance.\n",
        "   \n",
        "* For each feature $i = 1\\ldots n$, we need to find parameters $\\mu_i$ and $\\sigma_i^2$ that fit the data in the $i$-th dimension $\\{x_i^{(1)}, ..., x_i^{(m)}\\}$ (the $i$-th dimension of each example).\n",
        "\n",
        "**Estimating parameters for a Gaussian**\n"
      ],
      "id": "lMI9TQQ2LGUf"
    },
    {
      "cell_type": "markdown",
      "metadata": {
        "id": "eZNF6jxhLGUg"
      },
      "source": [
        "# **Estimation**\n",
        "\n",
        "Completing the `estimate_gaussian` function below to calculate `mu` (mean for each feature in `X`)and `var` (variance for each feature in `X`). \n",
        "\n",
        "We can estimate the parameters, ($\\mu_i$, $\\sigma_i^2$), of the $i$-th\n",
        "feature by using the following equations. To estimate the mean, we will\n",
        "use:\n",
        "\n",
        "$$\\mu_i = \\frac{1}{m} \\sum_{j=1}^m x_i^{(j)}$$\n",
        "\n",
        "and for the variance you will use:\n",
        "$$\\sigma_i^2 = \\frac{1}{m} \\sum_{j=1}^m (x_i^{(j)} - \\mu_i)^2$$\n"
      ],
      "id": "eZNF6jxhLGUg"
    },
    {
      "cell_type": "code",
      "execution_count": 9,
      "metadata": {
        "id": "4c7q-NxnLGUg"
      },
      "outputs": [],
      "source": [
        "def estimate_gaussian(X): \n",
        "    \"\"\"\n",
        "    Calculates mean and variance of all features \n",
        "    in the dataset\n",
        "    \n",
        "    Args:\n",
        "        X (ndarray): (m, n) Data matrix\n",
        "    \n",
        "    Returns:\n",
        "        mu (ndarray): (n,) Mean of all features\n",
        "        var (ndarray): (n,) Variance of all features\n",
        "    \"\"\"\n",
        "\n",
        "    m, n = X.shape\n",
        "  \n",
        "    mu = 1 / m * np.sum(X, axis = 0)\n",
        "    var = 1 / m * np.sum((X - mu) ** 2, axis = 0)\n",
        "            \n",
        "    return mu, var"
      ],
      "id": "4c7q-NxnLGUg"
    },
    {
      "cell_type": "markdown",
      "metadata": {
        "id": "-ef_lV_ELGUh"
      },
      "source": [
        "We can check if our implementation is correct by running the following test code:"
      ],
      "id": "-ef_lV_ELGUh"
    },
    {
      "cell_type": "code",
      "execution_count": 10,
      "metadata": {
        "colab": {
          "base_uri": "https://localhost:8080/"
        },
        "id": "JDum6y_0LGUi",
        "outputId": "820b1930-2186-40a3-8d98-d0b876317ddb"
      },
      "outputs": [
        {
          "output_type": "stream",
          "name": "stdout",
          "text": [
            "Mean of each feature: [14.11222578 14.99771051]\n",
            "Variance of each feature: [1.83263141 1.70974533]\n"
          ]
        }
      ],
      "source": [
        "# Estimate mean and variance of each feature\n",
        "mu, var = estimate_gaussian(X_train)              \n",
        "\n",
        "print(\"Mean of each feature:\", mu)\n",
        "print(\"Variance of each feature:\", var)"
      ],
      "id": "JDum6y_0LGUi"
    },
    {
      "cell_type": "markdown",
      "metadata": {
        "id": "cLDaa2nmLGUk"
      },
      "source": [
        "Now that we have completed the code in `estimate_gaussian`, we will visualize the contours of the fitted Gaussian distribution. \n",
        "\n",
        "From our plot we can see that most of the examples are in the region with the highest probability, while the anomalous examples are in the regions with lower probabilities."
      ],
      "id": "cLDaa2nmLGUk"
    },
    {
      "cell_type": "code",
      "source": [
        "def load_data_multi():\n",
        "    X = np.load(\"/content/drive/MyDrive/Code/K-means-clustering-models/data/X_part2.npy\")\n",
        "    X_val = np.load(\"/content/drive/MyDrive/Code/K-means-clustering-models/data/X_val_part2.npy\")\n",
        "    y_val = np.load(\"/content/drive/MyDrive/Code/K-means-clustering-models/data/y_val_part2.npy\")\n",
        "    return X, X_val, y_val"
      ],
      "metadata": {
        "id": "uj1mFDlKPHkk"
      },
      "id": "uj1mFDlKPHkk",
      "execution_count": 14,
      "outputs": []
    },
    {
      "cell_type": "code",
      "source": [
        "def multivariate_gaussian(X, mu, var):\n",
        "    \"\"\"\n",
        "    Computes the probability \n",
        "    density function of the examples X under the multivariate gaussian \n",
        "    distribution with parameters mu and var. If var is a matrix, it is\n",
        "    treated as the covariance matrix. If var is a vector, it is treated\n",
        "    as the var values of the variances in each dimension (a diagonal\n",
        "    covariance matrix\n",
        "    \"\"\"\n",
        "    \n",
        "    k = len(mu)\n",
        "    \n",
        "    if var.ndim == 1:\n",
        "        var = np.diag(var)\n",
        "        \n",
        "    X = X - mu\n",
        "    p = (2* np.pi)**(-k/2) * np.linalg.det(var)**(-0.5) * \\\n",
        "        np.exp(-0.5 * np.sum(np.matmul(X, np.linalg.pinv(var)) * X, axis=1))\n",
        "    \n",
        "    return p"
      ],
      "metadata": {
        "id": "vrmTSgPUPCaN"
      },
      "id": "vrmTSgPUPCaN",
      "execution_count": 15,
      "outputs": []
    },
    {
      "cell_type": "code",
      "source": [
        "def visualize_fit(X, mu, var):\n",
        "    \"\"\"\n",
        "    This visualization shows us the \n",
        "    probability density function of the Gaussian distribution. Each example\n",
        "    has a location (x1, x2) that depends on its feature values.\n",
        "    \"\"\"\n",
        "    \n",
        "    X1, X2 = np.meshgrid(np.arange(0, 35.5, 0.5), np.arange(0, 35.5, 0.5))\n",
        "    Z = multivariate_gaussian(np.stack([X1.ravel(), X2.ravel()], axis=1), mu, var)\n",
        "    Z = Z.reshape(X1.shape)\n",
        "\n",
        "    plt.plot(X[:, 0], X[:, 1], 'bx')\n",
        "\n",
        "    if np.sum(np.isinf(Z)) == 0:\n",
        "        plt.contour(X1, X2, Z, levels=10**(np.arange(-20., 1, 3)), linewidths=1)\n",
        "        "
      ],
      "metadata": {
        "id": "Wl62FgNWPpRl"
      },
      "id": "Wl62FgNWPpRl",
      "execution_count": 17,
      "outputs": []
    },
    {
      "cell_type": "code",
      "execution_count": 18,
      "metadata": {
        "colab": {
          "base_uri": "https://localhost:8080/",
          "height": 269
        },
        "id": "6DuKRu8bLGUl",
        "outputId": "858ad356-d34b-43d7-c86f-d0bff6cb384f"
      },
      "outputs": [
        {
          "output_type": "display_data",
          "data": {
            "text/plain": [
              "<Figure size 432x288 with 1 Axes>"
            ],
            "image/png": "[encoded data removed]"
          },
          "metadata": {
            "needs_background": "light"
          }
        }
      ],
      "source": [
        "# Returns the density of the multivariate normal\n",
        "# at each data point (row) of X_train\n",
        "p = multivariate_gaussian(X_train, mu, var)\n",
        "\n",
        "#Plotting code \n",
        "visualize_fit(X_train, mu, var)"
      ],
      "id": "6DuKRu8bLGUl"
    },
    {
      "cell_type": "markdown",
      "metadata": {
        "id": "Y9mbo2jgLGUm"
      },
      "source": [
        "# Selecting the threshold $\\epsilon$\n",
        "\n",
        "Now that we have estimated the Gaussian parameters, we can investigate which examples have a very high probability given this distribution and which examples have a very low probability.  \n",
        "\n",
        "* The low probability examples are more likely to be the anomalies in our dataset. \n",
        "* One way to determine which examples are anomalies is to select a threshold based on a cross validation set. \n",
        "\n",
        "In this section, we will complete the code in `select_threshold` to select the threshold $\\varepsilon$ using the $F_1$ score on a cross validation set.\n",
        "\n",
        "* For this, we will use a cross validation set\n",
        "$\\{(x_{\\rm cv}^{(1)}, y_{\\rm cv}^{(1)}),\\ldots, (x_{\\rm cv}^{(m_{\\rm cv})}, y_{\\rm cv}^{(m_{\\rm cv})})\\}$, where the label $y=1$ corresponds to an anomalous example, and $y=0$ corresponds to a normal example. \n",
        "* For each cross validation example, we will compute $p(x_{\\rm cv}^{(i)})$. The vector of all of these probabilities $p(x_{\\rm cv}^{(1)}), \\ldots, p(x_{\\rm cv}^{(m_{\\rm cv)}})$ is passed to `select_threshold` in the vector `p_val`. \n",
        "* The corresponding labels $y_{\\rm cv}^{(1)}, \\ldots, y_{\\rm cv}^{(m_{\\rm cv)}}$ is passed to the same function in the vector `y_val`."
      ],
      "id": "Y9mbo2jgLGUm"
    },
    {
      "cell_type": "markdown",
      "metadata": {
        "id": "VwR7NJWyLGUn"
      },
      "source": [
        "# **Threshold**\n",
        "We will complete the `select_threshold` function below to find the best threshold to use for selecting outliers based on the results from a validation set (`p_val`) and the ground truth (`y_val`). \n",
        "\n",
        "* In the provided code `select_threshold`, there is already a loop that will try many different values of $\\varepsilon$ and select the best $\\varepsilon$ based on the $F_1$ score. \n",
        "\n",
        "* We need implement code to calculate the F1 score from choosing `epsilon` as the threshold and place the value in `F1`. \n",
        "\n",
        "  * Recall that if an example $x$ has a low probability $p(x) < \\varepsilon$, then it is classified as an anomaly. \n",
        "        \n",
        "  * Then, you can compute precision and recall by: \n",
        "   $$\\begin{aligned}\n",
        "   prec&=&\\frac{tp}{tp+fp}\\\\\n",
        "   rec&=&\\frac{tp}{tp+fn},\n",
        "   \\end{aligned}$$ where\n",
        "    * $tp$ is the number of true positives: the ground truth label says it’s an anomaly and our algorithm correctly classified it as an anomaly.\n",
        "    * $fp$ is the number of false positives: the ground truth label says it’s not an anomaly, but our algorithm incorrectly classified it as an anomaly.\n",
        "    * $fn$ is the number of false negatives: the ground truth label says it’s an anomaly, but our algorithm incorrectly classified it as not being anomalous.\n",
        "\n",
        "  * The $F_1$ score is computed using precision ($prec$) and recall ($rec$) as follows:\n",
        "    $$F_1 = \\frac{2\\cdot prec \\cdot rec}{prec + rec}$$ "
      ],
      "id": "VwR7NJWyLGUn"
    },
    {
      "cell_type": "code",
      "execution_count": 20,
      "metadata": {
        "id": "fRpIkFtZLGUn"
      },
      "outputs": [],
      "source": [
        "def select_threshold(y_val, p_val): \n",
        "    \"\"\"\n",
        "    Finds the best threshold to use for selecting outliers \n",
        "    based on the results from a validation set (p_val) \n",
        "    and the ground truth (y_val)\n",
        "    \n",
        "    Args:\n",
        "        y_val (ndarray): Ground truth on validation set\n",
        "        p_val (ndarray): Results on validation set\n",
        "        \n",
        "    Returns:\n",
        "        epsilon (float): Threshold chosen \n",
        "        F1 (float):      F1 score by choosing epsilon as threshold\n",
        "    \"\"\" \n",
        "\n",
        "    best_epsilon = 0\n",
        "    best_F1 = 0\n",
        "    F1 = 0\n",
        "    \n",
        "    step_size = (max(p_val) - min(p_val)) / 1000\n",
        "    \n",
        "    for epsilon in np.arange(min(p_val), max(p_val), step_size):\n",
        "    \n",
        "        predictions = (p_val < epsilon)\n",
        "        \n",
        "        fp = np.sum((predictions == 1) & (y_val == 0))\n",
        "        tp = np.sum((predictions == 1) & (y_val == 1))\n",
        "        fn = np.sum((predictions == 0) & (y_val == 1))\n",
        "        \n",
        "        prec = tp / (tp + fp)\n",
        "        \n",
        "        rec = tp / (tp + fn)\n",
        "        \n",
        "        F1 = 2 * prec * rec / (prec + rec)\n",
        "        \n",
        "        \n",
        "        if F1 > best_F1:\n",
        "            best_F1 = F1\n",
        "            best_epsilon = epsilon\n",
        "        \n",
        "    return best_epsilon, best_F1"
      ],
      "id": "fRpIkFtZLGUn"
    },
    {
      "cell_type": "markdown",
      "metadata": {
        "id": "LgY7qmRgLGUq"
      },
      "source": [
        "We can check our implementation using the code below"
      ],
      "id": "LgY7qmRgLGUq"
    },
    {
      "cell_type": "code",
      "execution_count": 21,
      "metadata": {
        "colab": {
          "base_uri": "https://localhost:8080/"
        },
        "id": "A5_vbev8LGUq",
        "outputId": "a678387a-de2d-49fe-e715-e7d625a9b849"
      },
      "outputs": [
        {
          "output_type": "stream",
          "name": "stdout",
          "text": [
            "Best epsilon found using cross-validation: 8.990853e-05\n",
            "Best F1 on Cross Validation Set: 0.875000\n"
          ]
        },
        {
          "output_type": "stream",
          "name": "stderr",
          "text": [
            "/usr/local/lib/python3.7/dist-packages/ipykernel_launcher.py:30: RuntimeWarning: invalid value encountered in long_scalars\n"
          ]
        }
      ],
      "source": [
        "p_val = multivariate_gaussian(X_val, mu, var)\n",
        "epsilon, F1 = select_threshold(y_val, p_val)\n",
        "\n",
        "print('Best epsilon found using cross-validation: %e' % epsilon)\n",
        "print('Best F1 on Cross Validation Set: %f' % F1)"
      ],
      "id": "A5_vbev8LGUq"
    },
    {
      "cell_type": "markdown",
      "metadata": {
        "id": "rfSNaiBKLGUs"
      },
      "source": [
        "Now we will run your anomaly detection code and circle the anomalies in the plot"
      ],
      "id": "rfSNaiBKLGUs"
    },
    {
      "cell_type": "code",
      "execution_count": 22,
      "metadata": {
        "colab": {
          "base_uri": "https://localhost:8080/",
          "height": 286
        },
        "id": "cnnHYNZHLGUs",
        "outputId": "c66b85fd-c972-4fb9-bb5e-b55b7c91668f"
      },
      "outputs": [
        {
          "output_type": "execute_result",
          "data": {
            "text/plain": [
              "[<matplotlib.lines.Line2D at 0x7f190f12e850>]"
            ]
          },
          "metadata": {},
          "execution_count": 22
        },
        {
          "output_type": "display_data",
          "data": {
            "text/plain": [
              "<Figure size 432x288 with 1 Axes>"
            ],
            "image/png": "[encoded data removed]"
          },
          "metadata": {
            "needs_background": "light"
          }
        }
      ],
      "source": [
        "# Find the outliers in the training set \n",
        "outliers = p < epsilon\n",
        "\n",
        "# Visualize the fit\n",
        "visualize_fit(X_train, mu, var)\n",
        "\n",
        "# Draw a red circle around those outliers\n",
        "plt.plot(X_train[outliers, 0], X_train[outliers, 1], 'ro',\n",
        "         markersize= 10,markerfacecolor='none', markeredgewidth=2)"
      ],
      "id": "cnnHYNZHLGUs"
    },
    {
      "cell_type": "markdown",
      "metadata": {
        "id": "24jAPPwzLGUt"
      },
      "source": [
        "# **dimensional dataset**\n",
        "\n",
        "Now,  we will run the anomaly detection algorithm that we implemented on a more realistic and much harder dataset.\n",
        "\n",
        "In this dataset, each example is described by 11 features, capturing many more properties of our compute servers.\n",
        "\n",
        "Let's start by loading the dataset.\n",
        "\n",
        "- The `load_data()` function shown below loads the data into variables `X_train_high`, `X_val_high` and `y_val_high`\n",
        "    -  `_high` is meant to distinguish these variables from the ones used in the previous part\n",
        "    - We will use `X_train_high` to fit Gaussian distribution \n",
        "    - We will use `X_val_high` and `y_val_high` as a cross validation set to select a threshold and determine anomalous vs normal examples"
      ],
      "id": "24jAPPwzLGUt"
    },
    {
      "cell_type": "code",
      "execution_count": 23,
      "metadata": {
        "id": "xS7WxL13LGUt"
      },
      "outputs": [],
      "source": [
        "# load the dataset\n",
        "X_train_high, X_val_high, y_val_high = load_data_multi()"
      ],
      "id": "xS7WxL13LGUt"
    },
    {
      "cell_type": "markdown",
      "metadata": {
        "id": "9laupjtELGUu"
      },
      "source": [
        "Check the dimensions of the variables\n",
        "\n",
        "Let's check the dimensions of these new variables to become familiar with the data"
      ],
      "id": "9laupjtELGUu"
    },
    {
      "cell_type": "code",
      "execution_count": 24,
      "metadata": {
        "colab": {
          "base_uri": "https://localhost:8080/"
        },
        "id": "MA0T3gWDLGUu",
        "outputId": "c4e4a871-db91-4fbb-cece-07f2da7d3151"
      },
      "outputs": [
        {
          "output_type": "stream",
          "name": "stdout",
          "text": [
            "The shape of X_train_high is: (1000, 11)\n",
            "The shape of X_val_high is: (100, 11)\n",
            "The shape of y_val_high is:  (100,)\n"
          ]
        }
      ],
      "source": [
        "print ('The shape of X_train_high is:', X_train_high.shape)\n",
        "print ('The shape of X_val_high is:', X_val_high.shape)\n",
        "print ('The shape of y_val_high is: ', y_val_high.shape)"
      ],
      "id": "MA0T3gWDLGUu"
    },
    {
      "cell_type": "markdown",
      "metadata": {
        "id": "ZGmU-9XkLGUv"
      },
      "source": [
        "# **Anomaly detection**\n",
        "\n",
        "Now, let's run the anomaly detection algorithm on this new dataset.\n",
        "\n",
        "The code below will use our code to \n",
        "* Estimate the Gaussian parameters ($\\mu_i$ and $\\sigma_i^2$)\n",
        "* Evaluate the probabilities for both the training data `X_train_high` from which we estimated the Gaussian parameters, as well as for the the cross-validation set `X_val_high`. \n",
        "* Finally, it will use `select_threshold` to find the best threshold $\\varepsilon$. "
      ],
      "id": "ZGmU-9XkLGUv"
    },
    {
      "cell_type": "code",
      "execution_count": 25,
      "metadata": {
        "colab": {
          "base_uri": "https://localhost:8080/"
        },
        "id": "HHcz33vQLGUw",
        "outputId": "5180bcd2-63aa-4900-b277-efe99fa5eb24"
      },
      "outputs": [
        {
          "output_type": "stream",
          "name": "stdout",
          "text": [
            "Best epsilon found using cross-validation: 1.377229e-18\n",
            "Best F1 on Cross Validation Set:  0.615385\n",
            "# Anomalies found: 117\n"
          ]
        },
        {
          "output_type": "stream",
          "name": "stderr",
          "text": [
            "/usr/local/lib/python3.7/dist-packages/ipykernel_launcher.py:30: RuntimeWarning: invalid value encountered in long_scalars\n"
          ]
        }
      ],
      "source": [
        "# Apply the same steps to the larger dataset\n",
        "\n",
        "# Estimate the Gaussian parameters\n",
        "mu_high, var_high = estimate_gaussian(X_train_high)\n",
        "\n",
        "# Evaluate the probabilites for the training set\n",
        "p_high = multivariate_gaussian(X_train_high, mu_high, var_high)\n",
        "\n",
        "# Evaluate the probabilites for the cross validation set\n",
        "p_val_high = multivariate_gaussian(X_val_high, mu_high, var_high)\n",
        "\n",
        "# Find the best threshold\n",
        "epsilon_high, F1_high = select_threshold(y_val_high, p_val_high)\n",
        "\n",
        "print('Best epsilon found using cross-validation: %e'% epsilon_high)\n",
        "print('Best F1 on Cross Validation Set:  %f'% F1_high)\n",
        "print('# Anomalies found: %d'% sum(p_high < epsilon_high))"
      ],
      "id": "HHcz33vQLGUw"
    },
    {
      "cell_type": "code",
      "execution_count": null,
      "metadata": {
        "id": "a5UtIHPBLGUx"
      },
      "outputs": [],
      "source": [],
      "id": "a5UtIHPBLGUx"
    }
  ],
  "metadata": {
    "kernelspec": {
      "display_name": "Python 3",
      "language": "python",
      "name": "python3"
    },
    "language_info": {
      "codemirror_mode": {
        "name": "ipython",
        "version": 3
      },
      "file_extension": ".py",
      "mimetype": "text/x-python",
      "name": "python",
      "nbconvert_exporter": "python",
      "pygments_lexer": "ipython3",
      "version": "3.7.6"
    },
    "colab": {
      "provenance": [],
      "collapsed_sections": []
    }
  },
  "nbformat": 4,
  "nbformat_minor": 5
}